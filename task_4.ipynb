{
 "cells": [
  {
   "attachments": {},
   "cell_type": "markdown",
   "metadata": {},
   "source": [
    "# Header..."
   ]
  },
  {
   "cell_type": "code",
   "execution_count": 1,
   "metadata": {},
   "outputs": [],
   "source": [
    "import itertools as itt\n",
    "import pandas as pd\n",
    "import numpy as np\n",
    "from tqdm import tqdm\n",
    "from sklearn.linear_model import LinearRegression\n",
    "from sklearn.metrics import mean_squared_error,r2_score\n",
    "from sklearn.neighbors import KNeighborsRegressor\n"
   ]
  },
  {
   "attachments": {},
   "cell_type": "markdown",
   "metadata": {},
   "source": [
    "## Load data"
   ]
  },
  {
   "cell_type": "code",
   "execution_count": 2,
   "metadata": {},
   "outputs": [],
   "source": [
    "# Loading datatset (a) to predict Yield\n",
    "a_X_train = pd.read_csv('a_X_train.csv')\n",
    "a_y_train = pd.read_csv('a_y_train.csv')\n",
    "a_X_test = pd.read_csv('a_X_test.csv')\n",
    "a_y_test = pd.read_csv('a_y_test.csv')"
   ]
  },
  {
   "attachments": {},
   "cell_type": "markdown",
   "metadata": {},
   "source": [
    "## LinearRegression"
   ]
  },
  {
   "cell_type": "code",
   "execution_count": 31,
   "metadata": {},
   "outputs": [],
   "source": [
    "features = list(a_X_train.columns)\n",
    "\n",
    "def get_combinations(l):\n",
    "    c = []\n",
    "    for r in range(1,len(l)+1):\n",
    "        c.extend(list(itt.combinations(l,r)))\n",
    "    return c\n",
    "def get_best_runs(evaluations):\n",
    "    best_runs_by_r2 = []\n",
    "    best_runs_by_rmse = []\n",
    "    for run in evaluations:\n",
    "        if run==0:\n",
    "            best_runs_by_r2.append(evaluations[run])\n",
    "            best_runs_by_rmse.append(evaluations[run])\n",
    "        else:\n",
    "            current_run = evaluations[run]\n",
    "            best_run_by_r2 = best_runs_by_r2[-1]\n",
    "            best_run_by_rmse = best_runs_by_rmse[-1]\n",
    "            if current_run['evaluation']['r2'] > best_run_by_r2['evaluation']['r2']:\n",
    "                best_runs_by_r2=[current_run]\n",
    "            elif current_run['evaluation']['r2'] == best_run_by_r2['evaluation']['r2']:\n",
    "                best_runs_by_r2.append(current_run)\n",
    "            if current_run['evaluation']['rmse'] < best_run_by_rmse['evaluation']['rmse']:\n",
    "                best_runs_by_rmse=[current_run]\n",
    "            elif current_run['evaluation']['rmse'] == best_run_by_rmse['evaluation']['rmse']:\n",
    "                best_runs_by_rmse.append(current_run)\n",
    "    return best_runs_by_r2,best_runs_by_rmse"
   ]
  },
  {
   "cell_type": "code",
   "execution_count": 39,
   "metadata": {},
   "outputs": [
    {
     "name": "stderr",
     "output_type": "stream",
     "text": [
      "Running:: 100%|██████████| 2047/2047 [00:07<00:00, 275.24it/s]\n"
     ]
    }
   ],
   "source": [
    "def runLinearRegression(feature, a_X_train, a_X_test, a_y_train, a_y_test):\n",
    "    X_train = a_X_train[feature]\n",
    "    model = LinearRegression()\n",
    "    model.fit(X_train, a_y_train)\n",
    "    X_test = a_X_test[feature]\n",
    "    y_pred = model.predict(X_test)\n",
    "\n",
    "    mse = mean_squared_error(list(a_y_test['Yield']), y_pred.squeeze().tolist())\n",
    "    rmse = mean_squared_error(a_y_test, y_pred, squared=False)\n",
    "    r2 = r2_score(a_y_test, y_pred)\n",
    "\n",
    "    return {'mse':mse,'rmse':rmse,'r2':r2, 'y_pred':y_pred.squeeze().tolist()}\n",
    "\n",
    "def run():\n",
    "    feature_combinations = get_combinations(features)\n",
    "    run_number = 0\n",
    "    evaluations = {}\n",
    "    for feature in tqdm(feature_combinations, desc='Running:'):\n",
    "        evaluation = runLinearRegression(list(feature), a_X_train, a_X_test, a_y_train, a_y_test)\n",
    "        evaluations[run_number] = {'features':list(feature), 'evaluation':evaluation}\n",
    "        run_number+=1\n",
    "    return evaluations\n",
    "\n",
    "evaluations = run()\n",
    "best_runs_by_r2,best_runs_by_rmse = get_best_runs(evaluations)\n",
    "# best_runs_by_r2,best_runs_by_rmse"
   ]
  },
  {
   "attachments": {},
   "cell_type": "markdown",
   "metadata": {},
   "source": [
    "## KNN"
   ]
  },
  {
   "cell_type": "code",
   "execution_count": 47,
   "metadata": {},
   "outputs": [
    {
     "name": "stdout",
     "output_type": "stream",
     "text": [
      "Running for k=1, weights = uniform, metric=euclidean\n"
     ]
    },
    {
     "name": "stderr",
     "output_type": "stream",
     "text": [
      "Running:: 100%|██████████| 2047/2047 [00:08<00:00, 243.10it/s]\n"
     ]
    },
    {
     "name": "stdout",
     "output_type": "stream",
     "text": [
      "Running for k=2, weights = uniform, metric=euclidean\n"
     ]
    },
    {
     "name": "stderr",
     "output_type": "stream",
     "text": [
      "Running:: 100%|██████████| 2047/2047 [00:08<00:00, 249.18it/s]\n"
     ]
    },
    {
     "name": "stdout",
     "output_type": "stream",
     "text": [
      "Running for k=3, weights = uniform, metric=euclidean\n"
     ]
    },
    {
     "name": "stderr",
     "output_type": "stream",
     "text": [
      "Running:: 100%|██████████| 2047/2047 [00:08<00:00, 248.92it/s]\n"
     ]
    },
    {
     "name": "stdout",
     "output_type": "stream",
     "text": [
      "Running for k=4, weights = uniform, metric=euclidean\n"
     ]
    },
    {
     "name": "stderr",
     "output_type": "stream",
     "text": [
      "Running:: 100%|██████████| 2047/2047 [00:08<00:00, 247.38it/s]\n"
     ]
    },
    {
     "name": "stdout",
     "output_type": "stream",
     "text": [
      "Running for k=5, weights = uniform, metric=euclidean\n"
     ]
    },
    {
     "name": "stderr",
     "output_type": "stream",
     "text": [
      "Running:: 100%|██████████| 2047/2047 [00:08<00:00, 249.31it/s]\n"
     ]
    },
    {
     "name": "stdout",
     "output_type": "stream",
     "text": [
      "Running for k=6, weights = uniform, metric=euclidean\n"
     ]
    },
    {
     "name": "stderr",
     "output_type": "stream",
     "text": [
      "Running:: 100%|██████████| 2047/2047 [00:08<00:00, 246.00it/s]\n"
     ]
    },
    {
     "name": "stdout",
     "output_type": "stream",
     "text": [
      "Running for k=7, weights = uniform, metric=euclidean\n"
     ]
    },
    {
     "name": "stderr",
     "output_type": "stream",
     "text": [
      "Running:: 100%|██████████| 2047/2047 [00:08<00:00, 246.74it/s]\n"
     ]
    },
    {
     "name": "stdout",
     "output_type": "stream",
     "text": [
      "Running for k=8, weights = uniform, metric=euclidean\n"
     ]
    },
    {
     "name": "stderr",
     "output_type": "stream",
     "text": [
      "Running:: 100%|██████████| 2047/2047 [00:08<00:00, 242.08it/s]\n"
     ]
    },
    {
     "name": "stdout",
     "output_type": "stream",
     "text": [
      "Running for k=9, weights = uniform, metric=euclidean\n"
     ]
    },
    {
     "name": "stderr",
     "output_type": "stream",
     "text": [
      "Running:: 100%|██████████| 2047/2047 [00:08<00:00, 248.47it/s]\n"
     ]
    },
    {
     "name": "stdout",
     "output_type": "stream",
     "text": [
      "Running for k=10, weights = uniform, metric=euclidean\n"
     ]
    },
    {
     "name": "stderr",
     "output_type": "stream",
     "text": [
      "Running:: 100%|██████████| 2047/2047 [00:08<00:00, 250.63it/s]\n"
     ]
    },
    {
     "name": "stdout",
     "output_type": "stream",
     "text": [
      "Running for k=1, weights = distance, metric=euclidean\n"
     ]
    },
    {
     "name": "stderr",
     "output_type": "stream",
     "text": [
      "Running:: 100%|██████████| 2047/2047 [00:08<00:00, 251.23it/s]\n"
     ]
    },
    {
     "name": "stdout",
     "output_type": "stream",
     "text": [
      "Running for k=2, weights = distance, metric=euclidean\n"
     ]
    },
    {
     "name": "stderr",
     "output_type": "stream",
     "text": [
      "Running:: 100%|██████████| 2047/2047 [00:08<00:00, 250.65it/s]\n"
     ]
    },
    {
     "name": "stdout",
     "output_type": "stream",
     "text": [
      "Running for k=3, weights = distance, metric=euclidean\n"
     ]
    },
    {
     "name": "stderr",
     "output_type": "stream",
     "text": [
      "Running:: 100%|██████████| 2047/2047 [00:08<00:00, 250.64it/s]\n"
     ]
    },
    {
     "name": "stdout",
     "output_type": "stream",
     "text": [
      "Running for k=4, weights = distance, metric=euclidean\n"
     ]
    },
    {
     "name": "stderr",
     "output_type": "stream",
     "text": [
      "Running:: 100%|██████████| 2047/2047 [00:08<00:00, 251.92it/s]\n"
     ]
    },
    {
     "name": "stdout",
     "output_type": "stream",
     "text": [
      "Running for k=5, weights = distance, metric=euclidean\n"
     ]
    },
    {
     "name": "stderr",
     "output_type": "stream",
     "text": [
      "Running:: 100%|██████████| 2047/2047 [00:08<00:00, 249.33it/s]\n"
     ]
    },
    {
     "name": "stdout",
     "output_type": "stream",
     "text": [
      "Running for k=6, weights = distance, metric=euclidean\n"
     ]
    },
    {
     "name": "stderr",
     "output_type": "stream",
     "text": [
      "Running:: 100%|██████████| 2047/2047 [00:08<00:00, 250.60it/s]\n"
     ]
    },
    {
     "name": "stdout",
     "output_type": "stream",
     "text": [
      "Running for k=7, weights = distance, metric=euclidean\n"
     ]
    },
    {
     "name": "stderr",
     "output_type": "stream",
     "text": [
      "Running:: 100%|██████████| 2047/2047 [00:08<00:00, 250.74it/s]\n"
     ]
    },
    {
     "name": "stdout",
     "output_type": "stream",
     "text": [
      "Running for k=8, weights = distance, metric=euclidean\n"
     ]
    },
    {
     "name": "stderr",
     "output_type": "stream",
     "text": [
      "Running:: 100%|██████████| 2047/2047 [00:08<00:00, 249.00it/s]\n"
     ]
    },
    {
     "name": "stdout",
     "output_type": "stream",
     "text": [
      "Running for k=9, weights = distance, metric=euclidean\n"
     ]
    },
    {
     "name": "stderr",
     "output_type": "stream",
     "text": [
      "Running:: 100%|██████████| 2047/2047 [00:08<00:00, 251.50it/s]\n"
     ]
    },
    {
     "name": "stdout",
     "output_type": "stream",
     "text": [
      "Running for k=10, weights = distance, metric=euclidean\n"
     ]
    },
    {
     "name": "stderr",
     "output_type": "stream",
     "text": [
      "Running:: 100%|██████████| 2047/2047 [00:08<00:00, 250.58it/s]\n"
     ]
    },
    {
     "name": "stdout",
     "output_type": "stream",
     "text": [
      "Running for k=1, weights = uniform, metric=manhattan\n"
     ]
    },
    {
     "name": "stderr",
     "output_type": "stream",
     "text": [
      "Running:: 100%|██████████| 2047/2047 [00:08<00:00, 249.64it/s]\n"
     ]
    },
    {
     "name": "stdout",
     "output_type": "stream",
     "text": [
      "Running for k=2, weights = uniform, metric=manhattan\n"
     ]
    },
    {
     "name": "stderr",
     "output_type": "stream",
     "text": [
      "Running:: 100%|██████████| 2047/2047 [00:08<00:00, 238.18it/s]\n"
     ]
    },
    {
     "name": "stdout",
     "output_type": "stream",
     "text": [
      "Running for k=3, weights = uniform, metric=manhattan\n"
     ]
    },
    {
     "name": "stderr",
     "output_type": "stream",
     "text": [
      "Running:: 100%|██████████| 2047/2047 [00:08<00:00, 242.58it/s]\n"
     ]
    },
    {
     "name": "stdout",
     "output_type": "stream",
     "text": [
      "Running for k=4, weights = uniform, metric=manhattan\n"
     ]
    },
    {
     "name": "stderr",
     "output_type": "stream",
     "text": [
      "Running:: 100%|██████████| 2047/2047 [00:08<00:00, 241.38it/s]\n"
     ]
    },
    {
     "name": "stdout",
     "output_type": "stream",
     "text": [
      "Running for k=5, weights = uniform, metric=manhattan\n"
     ]
    },
    {
     "name": "stderr",
     "output_type": "stream",
     "text": [
      "Running:: 100%|██████████| 2047/2047 [00:08<00:00, 246.45it/s]\n"
     ]
    },
    {
     "name": "stdout",
     "output_type": "stream",
     "text": [
      "Running for k=6, weights = uniform, metric=manhattan\n"
     ]
    },
    {
     "name": "stderr",
     "output_type": "stream",
     "text": [
      "Running:: 100%|██████████| 2047/2047 [00:08<00:00, 248.07it/s]\n"
     ]
    },
    {
     "name": "stdout",
     "output_type": "stream",
     "text": [
      "Running for k=7, weights = uniform, metric=manhattan\n"
     ]
    },
    {
     "name": "stderr",
     "output_type": "stream",
     "text": [
      "Running:: 100%|██████████| 2047/2047 [00:08<00:00, 243.38it/s]\n"
     ]
    },
    {
     "name": "stdout",
     "output_type": "stream",
     "text": [
      "Running for k=8, weights = uniform, metric=manhattan\n"
     ]
    },
    {
     "name": "stderr",
     "output_type": "stream",
     "text": [
      "Running:: 100%|██████████| 2047/2047 [00:08<00:00, 246.27it/s]\n"
     ]
    },
    {
     "name": "stdout",
     "output_type": "stream",
     "text": [
      "Running for k=9, weights = uniform, metric=manhattan\n"
     ]
    },
    {
     "name": "stderr",
     "output_type": "stream",
     "text": [
      "Running:: 100%|██████████| 2047/2047 [00:08<00:00, 244.93it/s]\n"
     ]
    },
    {
     "name": "stdout",
     "output_type": "stream",
     "text": [
      "Running for k=10, weights = uniform, metric=manhattan\n"
     ]
    },
    {
     "name": "stderr",
     "output_type": "stream",
     "text": [
      "Running:: 100%|██████████| 2047/2047 [00:08<00:00, 245.49it/s]\n"
     ]
    },
    {
     "name": "stdout",
     "output_type": "stream",
     "text": [
      "Running for k=1, weights = distance, metric=manhattan\n"
     ]
    },
    {
     "name": "stderr",
     "output_type": "stream",
     "text": [
      "Running:: 100%|██████████| 2047/2047 [00:08<00:00, 248.91it/s]\n"
     ]
    },
    {
     "name": "stdout",
     "output_type": "stream",
     "text": [
      "Running for k=2, weights = distance, metric=manhattan\n"
     ]
    },
    {
     "name": "stderr",
     "output_type": "stream",
     "text": [
      "Running:: 100%|██████████| 2047/2047 [00:08<00:00, 247.22it/s]\n"
     ]
    },
    {
     "name": "stdout",
     "output_type": "stream",
     "text": [
      "Running for k=3, weights = distance, metric=manhattan\n"
     ]
    },
    {
     "name": "stderr",
     "output_type": "stream",
     "text": [
      "Running:: 100%|██████████| 2047/2047 [00:08<00:00, 247.10it/s]\n"
     ]
    },
    {
     "name": "stdout",
     "output_type": "stream",
     "text": [
      "Running for k=4, weights = distance, metric=manhattan\n"
     ]
    },
    {
     "name": "stderr",
     "output_type": "stream",
     "text": [
      "Running:: 100%|██████████| 2047/2047 [00:08<00:00, 247.00it/s]\n"
     ]
    },
    {
     "name": "stdout",
     "output_type": "stream",
     "text": [
      "Running for k=5, weights = distance, metric=manhattan\n"
     ]
    },
    {
     "name": "stderr",
     "output_type": "stream",
     "text": [
      "Running:: 100%|██████████| 2047/2047 [00:08<00:00, 246.53it/s]\n"
     ]
    },
    {
     "name": "stdout",
     "output_type": "stream",
     "text": [
      "Running for k=6, weights = distance, metric=manhattan\n"
     ]
    },
    {
     "name": "stderr",
     "output_type": "stream",
     "text": [
      "Running:: 100%|██████████| 2047/2047 [00:08<00:00, 245.83it/s]\n"
     ]
    },
    {
     "name": "stdout",
     "output_type": "stream",
     "text": [
      "Running for k=7, weights = distance, metric=manhattan\n"
     ]
    },
    {
     "name": "stderr",
     "output_type": "stream",
     "text": [
      "Running:: 100%|██████████| 2047/2047 [00:08<00:00, 244.88it/s]\n"
     ]
    },
    {
     "name": "stdout",
     "output_type": "stream",
     "text": [
      "Running for k=8, weights = distance, metric=manhattan\n"
     ]
    },
    {
     "name": "stderr",
     "output_type": "stream",
     "text": [
      "Running:: 100%|██████████| 2047/2047 [00:08<00:00, 248.63it/s]\n"
     ]
    },
    {
     "name": "stdout",
     "output_type": "stream",
     "text": [
      "Running for k=9, weights = distance, metric=manhattan\n"
     ]
    },
    {
     "name": "stderr",
     "output_type": "stream",
     "text": [
      "Running:: 100%|██████████| 2047/2047 [00:08<00:00, 243.77it/s]\n"
     ]
    },
    {
     "name": "stdout",
     "output_type": "stream",
     "text": [
      "Running for k=10, weights = distance, metric=manhattan\n"
     ]
    },
    {
     "name": "stderr",
     "output_type": "stream",
     "text": [
      "Running:: 100%|██████████| 2047/2047 [00:08<00:00, 249.47it/s]\n"
     ]
    },
    {
     "name": "stdout",
     "output_type": "stream",
     "text": [
      "Running for k=1, weights = uniform, metric=chebyshev\n"
     ]
    },
    {
     "name": "stderr",
     "output_type": "stream",
     "text": [
      "Running:: 100%|██████████| 2047/2047 [00:08<00:00, 251.16it/s]\n"
     ]
    },
    {
     "name": "stdout",
     "output_type": "stream",
     "text": [
      "Running for k=2, weights = uniform, metric=chebyshev\n"
     ]
    },
    {
     "name": "stderr",
     "output_type": "stream",
     "text": [
      "Running:: 100%|██████████| 2047/2047 [00:08<00:00, 250.05it/s]\n"
     ]
    },
    {
     "name": "stdout",
     "output_type": "stream",
     "text": [
      "Running for k=3, weights = uniform, metric=chebyshev\n"
     ]
    },
    {
     "name": "stderr",
     "output_type": "stream",
     "text": [
      "Running:: 100%|██████████| 2047/2047 [00:08<00:00, 249.54it/s]\n"
     ]
    },
    {
     "name": "stdout",
     "output_type": "stream",
     "text": [
      "Running for k=4, weights = uniform, metric=chebyshev\n"
     ]
    },
    {
     "name": "stderr",
     "output_type": "stream",
     "text": [
      "Running:: 100%|██████████| 2047/2047 [00:08<00:00, 251.20it/s]\n"
     ]
    },
    {
     "name": "stdout",
     "output_type": "stream",
     "text": [
      "Running for k=5, weights = uniform, metric=chebyshev\n"
     ]
    },
    {
     "name": "stderr",
     "output_type": "stream",
     "text": [
      "Running:: 100%|██████████| 2047/2047 [00:07<00:00, 256.51it/s]\n"
     ]
    },
    {
     "name": "stdout",
     "output_type": "stream",
     "text": [
      "Running for k=6, weights = uniform, metric=chebyshev\n"
     ]
    },
    {
     "name": "stderr",
     "output_type": "stream",
     "text": [
      "Running:: 100%|██████████| 2047/2047 [00:08<00:00, 251.62it/s]\n"
     ]
    },
    {
     "name": "stdout",
     "output_type": "stream",
     "text": [
      "Running for k=7, weights = uniform, metric=chebyshev\n"
     ]
    },
    {
     "name": "stderr",
     "output_type": "stream",
     "text": [
      "Running:: 100%|██████████| 2047/2047 [00:08<00:00, 243.34it/s]\n"
     ]
    },
    {
     "name": "stdout",
     "output_type": "stream",
     "text": [
      "Running for k=8, weights = uniform, metric=chebyshev\n"
     ]
    },
    {
     "name": "stderr",
     "output_type": "stream",
     "text": [
      "Running:: 100%|██████████| 2047/2047 [00:08<00:00, 247.46it/s]\n"
     ]
    },
    {
     "name": "stdout",
     "output_type": "stream",
     "text": [
      "Running for k=9, weights = uniform, metric=chebyshev\n"
     ]
    },
    {
     "name": "stderr",
     "output_type": "stream",
     "text": [
      "Running:: 100%|██████████| 2047/2047 [00:08<00:00, 247.19it/s]\n"
     ]
    },
    {
     "name": "stdout",
     "output_type": "stream",
     "text": [
      "Running for k=10, weights = uniform, metric=chebyshev\n"
     ]
    },
    {
     "name": "stderr",
     "output_type": "stream",
     "text": [
      "Running:: 100%|██████████| 2047/2047 [00:08<00:00, 238.84it/s]\n"
     ]
    },
    {
     "name": "stdout",
     "output_type": "stream",
     "text": [
      "Running for k=1, weights = distance, metric=chebyshev\n"
     ]
    },
    {
     "name": "stderr",
     "output_type": "stream",
     "text": [
      "Running:: 100%|██████████| 2047/2047 [00:08<00:00, 239.51it/s]\n"
     ]
    },
    {
     "name": "stdout",
     "output_type": "stream",
     "text": [
      "Running for k=2, weights = distance, metric=chebyshev\n"
     ]
    },
    {
     "name": "stderr",
     "output_type": "stream",
     "text": [
      "Running:: 100%|██████████| 2047/2047 [00:08<00:00, 233.77it/s]\n"
     ]
    },
    {
     "name": "stdout",
     "output_type": "stream",
     "text": [
      "Running for k=3, weights = distance, metric=chebyshev\n"
     ]
    },
    {
     "name": "stderr",
     "output_type": "stream",
     "text": [
      "Running:: 100%|██████████| 2047/2047 [00:08<00:00, 230.80it/s]\n"
     ]
    },
    {
     "name": "stdout",
     "output_type": "stream",
     "text": [
      "Running for k=4, weights = distance, metric=chebyshev\n"
     ]
    },
    {
     "name": "stderr",
     "output_type": "stream",
     "text": [
      "Running:: 100%|██████████| 2047/2047 [00:08<00:00, 229.28it/s]\n"
     ]
    },
    {
     "name": "stdout",
     "output_type": "stream",
     "text": [
      "Running for k=5, weights = distance, metric=chebyshev\n"
     ]
    },
    {
     "name": "stderr",
     "output_type": "stream",
     "text": [
      "Running:: 100%|██████████| 2047/2047 [00:08<00:00, 242.41it/s]\n"
     ]
    },
    {
     "name": "stdout",
     "output_type": "stream",
     "text": [
      "Running for k=6, weights = distance, metric=chebyshev\n"
     ]
    },
    {
     "name": "stderr",
     "output_type": "stream",
     "text": [
      "Running:: 100%|██████████| 2047/2047 [00:08<00:00, 238.07it/s]\n"
     ]
    },
    {
     "name": "stdout",
     "output_type": "stream",
     "text": [
      "Running for k=7, weights = distance, metric=chebyshev\n"
     ]
    },
    {
     "name": "stderr",
     "output_type": "stream",
     "text": [
      "Running:: 100%|██████████| 2047/2047 [00:09<00:00, 226.74it/s]\n"
     ]
    },
    {
     "name": "stdout",
     "output_type": "stream",
     "text": [
      "Running for k=8, weights = distance, metric=chebyshev\n"
     ]
    },
    {
     "name": "stderr",
     "output_type": "stream",
     "text": [
      "Running:: 100%|██████████| 2047/2047 [00:08<00:00, 234.94it/s]\n"
     ]
    },
    {
     "name": "stdout",
     "output_type": "stream",
     "text": [
      "Running for k=9, weights = distance, metric=chebyshev\n"
     ]
    },
    {
     "name": "stderr",
     "output_type": "stream",
     "text": [
      "Running:: 100%|██████████| 2047/2047 [00:08<00:00, 239.37it/s]\n"
     ]
    },
    {
     "name": "stdout",
     "output_type": "stream",
     "text": [
      "Running for k=10, weights = distance, metric=chebyshev\n"
     ]
    },
    {
     "name": "stderr",
     "output_type": "stream",
     "text": [
      "Running:: 100%|██████████| 2047/2047 [00:08<00:00, 233.17it/s]\n"
     ]
    },
    {
     "name": "stdout",
     "output_type": "stream",
     "text": [
      "Running for k=1, weights = uniform, metric=cosine\n"
     ]
    },
    {
     "name": "stderr",
     "output_type": "stream",
     "text": [
      "Running:: 100%|██████████| 2047/2047 [00:08<00:00, 243.42it/s]\n"
     ]
    },
    {
     "name": "stdout",
     "output_type": "stream",
     "text": [
      "Running for k=2, weights = uniform, metric=cosine\n"
     ]
    },
    {
     "name": "stderr",
     "output_type": "stream",
     "text": [
      "Running:: 100%|██████████| 2047/2047 [00:08<00:00, 242.45it/s]\n"
     ]
    },
    {
     "name": "stdout",
     "output_type": "stream",
     "text": [
      "Running for k=3, weights = uniform, metric=cosine\n"
     ]
    },
    {
     "name": "stderr",
     "output_type": "stream",
     "text": [
      "Running:: 100%|██████████| 2047/2047 [00:08<00:00, 243.00it/s]\n"
     ]
    },
    {
     "name": "stdout",
     "output_type": "stream",
     "text": [
      "Running for k=4, weights = uniform, metric=cosine\n"
     ]
    },
    {
     "name": "stderr",
     "output_type": "stream",
     "text": [
      "Running:: 100%|██████████| 2047/2047 [00:08<00:00, 243.89it/s]\n"
     ]
    },
    {
     "name": "stdout",
     "output_type": "stream",
     "text": [
      "Running for k=5, weights = uniform, metric=cosine\n"
     ]
    },
    {
     "name": "stderr",
     "output_type": "stream",
     "text": [
      "Running:: 100%|██████████| 2047/2047 [00:08<00:00, 242.51it/s]\n"
     ]
    },
    {
     "name": "stdout",
     "output_type": "stream",
     "text": [
      "Running for k=6, weights = uniform, metric=cosine\n"
     ]
    },
    {
     "name": "stderr",
     "output_type": "stream",
     "text": [
      "Running:: 100%|██████████| 2047/2047 [00:08<00:00, 244.59it/s]\n"
     ]
    },
    {
     "name": "stdout",
     "output_type": "stream",
     "text": [
      "Running for k=7, weights = uniform, metric=cosine\n"
     ]
    },
    {
     "name": "stderr",
     "output_type": "stream",
     "text": [
      "Running:: 100%|██████████| 2047/2047 [00:08<00:00, 245.05it/s]\n"
     ]
    },
    {
     "name": "stdout",
     "output_type": "stream",
     "text": [
      "Running for k=8, weights = uniform, metric=cosine\n"
     ]
    },
    {
     "name": "stderr",
     "output_type": "stream",
     "text": [
      "Running:: 100%|██████████| 2047/2047 [00:08<00:00, 246.02it/s]\n"
     ]
    },
    {
     "name": "stdout",
     "output_type": "stream",
     "text": [
      "Running for k=9, weights = uniform, metric=cosine\n"
     ]
    },
    {
     "name": "stderr",
     "output_type": "stream",
     "text": [
      "Running:: 100%|██████████| 2047/2047 [00:08<00:00, 246.65it/s]\n"
     ]
    },
    {
     "name": "stdout",
     "output_type": "stream",
     "text": [
      "Running for k=10, weights = uniform, metric=cosine\n"
     ]
    },
    {
     "name": "stderr",
     "output_type": "stream",
     "text": [
      "Running:: 100%|██████████| 2047/2047 [00:08<00:00, 242.35it/s]\n"
     ]
    },
    {
     "name": "stdout",
     "output_type": "stream",
     "text": [
      "Running for k=1, weights = distance, metric=cosine\n"
     ]
    },
    {
     "name": "stderr",
     "output_type": "stream",
     "text": [
      "Running:: 100%|██████████| 2047/2047 [00:08<00:00, 246.30it/s]\n"
     ]
    },
    {
     "name": "stdout",
     "output_type": "stream",
     "text": [
      "Running for k=2, weights = distance, metric=cosine\n"
     ]
    },
    {
     "name": "stderr",
     "output_type": "stream",
     "text": [
      "Running:: 100%|██████████| 2047/2047 [00:08<00:00, 243.86it/s]\n"
     ]
    },
    {
     "name": "stdout",
     "output_type": "stream",
     "text": [
      "Running for k=3, weights = distance, metric=cosine\n"
     ]
    },
    {
     "name": "stderr",
     "output_type": "stream",
     "text": [
      "Running:: 100%|██████████| 2047/2047 [00:08<00:00, 241.21it/s]\n"
     ]
    },
    {
     "name": "stdout",
     "output_type": "stream",
     "text": [
      "Running for k=4, weights = distance, metric=cosine\n"
     ]
    },
    {
     "name": "stderr",
     "output_type": "stream",
     "text": [
      "Running:: 100%|██████████| 2047/2047 [00:08<00:00, 243.87it/s]\n"
     ]
    },
    {
     "name": "stdout",
     "output_type": "stream",
     "text": [
      "Running for k=5, weights = distance, metric=cosine\n"
     ]
    },
    {
     "name": "stderr",
     "output_type": "stream",
     "text": [
      "Running:: 100%|██████████| 2047/2047 [00:08<00:00, 245.30it/s]\n"
     ]
    },
    {
     "name": "stdout",
     "output_type": "stream",
     "text": [
      "Running for k=6, weights = distance, metric=cosine\n"
     ]
    },
    {
     "name": "stderr",
     "output_type": "stream",
     "text": [
      "Running:: 100%|██████████| 2047/2047 [00:08<00:00, 242.97it/s]\n"
     ]
    },
    {
     "name": "stdout",
     "output_type": "stream",
     "text": [
      "Running for k=7, weights = distance, metric=cosine\n"
     ]
    },
    {
     "name": "stderr",
     "output_type": "stream",
     "text": [
      "Running:: 100%|██████████| 2047/2047 [00:08<00:00, 242.79it/s]\n"
     ]
    },
    {
     "name": "stdout",
     "output_type": "stream",
     "text": [
      "Running for k=8, weights = distance, metric=cosine\n"
     ]
    },
    {
     "name": "stderr",
     "output_type": "stream",
     "text": [
      "Running:: 100%|██████████| 2047/2047 [00:08<00:00, 241.92it/s]\n"
     ]
    },
    {
     "name": "stdout",
     "output_type": "stream",
     "text": [
      "Running for k=9, weights = distance, metric=cosine\n"
     ]
    },
    {
     "name": "stderr",
     "output_type": "stream",
     "text": [
      "Running:: 100%|██████████| 2047/2047 [00:08<00:00, 244.25it/s]\n"
     ]
    },
    {
     "name": "stdout",
     "output_type": "stream",
     "text": [
      "Running for k=10, weights = distance, metric=cosine\n"
     ]
    },
    {
     "name": "stderr",
     "output_type": "stream",
     "text": [
      "Running:: 100%|██████████| 2047/2047 [00:08<00:00, 239.20it/s]\n"
     ]
    }
   ],
   "source": [
    "def runKNeighborsRegressor(feature, a_X_train, a_X_test, a_y_train, a_y_test, k=5, weights='uniform',metric='euclidean'):\n",
    "    X_train = a_X_train[feature]\n",
    "    model = KNeighborsRegressor(n_neighbors=k, weights=weights, metric=metric)\n",
    "    model.fit(X_train, a_y_train)\n",
    "    X_test = a_X_test[feature]\n",
    "\n",
    "    y_pred = model.predict(X_test)\n",
    "    rmse = mean_squared_error(a_y_test, y_pred, squared=False)\n",
    "    mse = mean_squared_error(a_y_test, y_pred)\n",
    "    r2 = r2_score(a_y_test, y_pred)\n",
    "\n",
    "    return {'mse':mse,'rmse':rmse,'r2':r2, 'y_pred':y_pred.squeeze().tolist()}\n",
    "\n",
    "def run():\n",
    "    feature_combinations = get_combinations(features)\n",
    "    list_of_ks=range(1,11)\n",
    "    list_of_weights = ['uniform','distance']\n",
    "    list_of_metrics = ['euclidean','manhattan','chebyshev','cosine']\n",
    "    run_number = 0\n",
    "    evaluations = {}\n",
    "    for metric in tqdm(list_of_metrics,desc='Running:'):\n",
    "        for weights in list_of_weights:\n",
    "            for k in list_of_ks:\n",
    "                # print(f\"Running for k={k}, weights = {weights}, metric={metric}\")\n",
    "                for feature in feature_combinations:\n",
    "                    evaluation = runKNeighborsRegressor(list(feature), a_X_train, a_X_test, a_y_train, a_y_test, k=k, weights=weights)\n",
    "                    evaluations[run_number] = {'k':k,'metric':metric,'weights':weights,'features':list(feature),'evaluation':evaluation}\n",
    "                    run_number+=1\n",
    "    return evaluations\n",
    "\n",
    "evaluations_knn = run()\n",
    "best_runs_by_r2_knn,best_runs_by_rmse_knn = get_best_runs(evaluations_knn)\n",
    "# best_runs_by_r2_knn,best_runs_by_rmse_knn"
   ]
  },
  {
   "cell_type": "code",
   "execution_count": 46,
   "metadata": {},
   "outputs": [
    {
     "data": {
      "text/plain": [
       "[{'k': 2,\n",
       "  'metric': 'euclidean',\n",
       "  'weights': 'distance',\n",
       "  'features': ['Location', 'Avg Min Temp *C', 'Cold Wave', 'Crop Type'],\n",
       "  'evaluation': {'mse': 9.3227810358089,\n",
       "   'rmse': 3.0533229498054903,\n",
       "   'r2': 0.999893349725989,\n",
       "   'y_pred': [974.6466666666666,\n",
       "    973.4700000000001,\n",
       "    1652.3933333333332,\n",
       "    1474.935,\n",
       "    1460.7150000000001,\n",
       "    787.73,\n",
       "    1040.311666666667,\n",
       "    1697.1333333333334,\n",
       "    1338.7779999999998,\n",
       "    1182.8714285714286,\n",
       "    1466.695,\n",
       "    781.64,\n",
       "    1196.1433333333332,\n",
       "    1388.8314285714284,\n",
       "    1066.8433333333332,\n",
       "    1188.94,\n",
       "    1474.9350000000002,\n",
       "    782.508,\n",
       "    1488.98,\n",
       "    1657.31,\n",
       "    1474.935,\n",
       "    1617.6449999999998,\n",
       "    1761.2333333333333,\n",
       "    1403.78]}},\n",
       " {'k': 2,\n",
       "  'metric': 'euclidean',\n",
       "  'weights': 'distance',\n",
       "  'features': ['Avg Min Temp *C', 'Cold Wave', 'Irrigation', 'Crop Type'],\n",
       "  'evaluation': {'mse': 9.3227810358089,\n",
       "   'rmse': 3.0533229498054903,\n",
       "   'r2': 0.999893349725989,\n",
       "   'y_pred': [974.6466666666666,\n",
       "    973.4700000000001,\n",
       "    1652.3933333333332,\n",
       "    1474.935,\n",
       "    1460.7150000000001,\n",
       "    787.73,\n",
       "    1040.311666666667,\n",
       "    1697.1333333333334,\n",
       "    1338.7779999999998,\n",
       "    1182.8714285714286,\n",
       "    1466.695,\n",
       "    781.64,\n",
       "    1196.1433333333332,\n",
       "    1388.8314285714284,\n",
       "    1066.8433333333332,\n",
       "    1188.94,\n",
       "    1474.9350000000002,\n",
       "    782.508,\n",
       "    1488.98,\n",
       "    1657.31,\n",
       "    1474.935,\n",
       "    1617.6449999999998,\n",
       "    1761.2333333333333,\n",
       "    1403.78]}},\n",
       " {'k': 2,\n",
       "  'metric': 'euclidean',\n",
       "  'weights': 'distance',\n",
       "  'features': ['Location',\n",
       "   'Avg Min Temp *C',\n",
       "   'Cold Wave',\n",
       "   'Irrigation',\n",
       "   'Crop Type'],\n",
       "  'evaluation': {'mse': 9.3227810358089,\n",
       "   'rmse': 3.0533229498054903,\n",
       "   'r2': 0.999893349725989,\n",
       "   'y_pred': [974.6466666666666,\n",
       "    973.4700000000001,\n",
       "    1652.3933333333332,\n",
       "    1474.935,\n",
       "    1460.7150000000001,\n",
       "    787.73,\n",
       "    1040.311666666667,\n",
       "    1697.1333333333334,\n",
       "    1338.7779999999998,\n",
       "    1182.8714285714286,\n",
       "    1466.695,\n",
       "    781.64,\n",
       "    1196.1433333333332,\n",
       "    1388.8314285714284,\n",
       "    1066.8433333333332,\n",
       "    1188.94,\n",
       "    1474.9350000000002,\n",
       "    782.508,\n",
       "    1488.98,\n",
       "    1657.31,\n",
       "    1474.935,\n",
       "    1617.6449999999998,\n",
       "    1761.2333333333333,\n",
       "    1403.78]}},\n",
       " {'k': 2,\n",
       "  'metric': 'manhattan',\n",
       "  'weights': 'distance',\n",
       "  'features': ['Location', 'Avg Min Temp *C', 'Cold Wave', 'Crop Type'],\n",
       "  'evaluation': {'mse': 9.3227810358089,\n",
       "   'rmse': 3.0533229498054903,\n",
       "   'r2': 0.999893349725989,\n",
       "   'y_pred': [974.6466666666666,\n",
       "    973.4700000000001,\n",
       "    1652.3933333333332,\n",
       "    1474.935,\n",
       "    1460.7150000000001,\n",
       "    787.73,\n",
       "    1040.311666666667,\n",
       "    1697.1333333333334,\n",
       "    1338.7779999999998,\n",
       "    1182.8714285714286,\n",
       "    1466.695,\n",
       "    781.64,\n",
       "    1196.1433333333332,\n",
       "    1388.8314285714284,\n",
       "    1066.8433333333332,\n",
       "    1188.94,\n",
       "    1474.9350000000002,\n",
       "    782.508,\n",
       "    1488.98,\n",
       "    1657.31,\n",
       "    1474.935,\n",
       "    1617.6449999999998,\n",
       "    1761.2333333333333,\n",
       "    1403.78]}},\n",
       " {'k': 2,\n",
       "  'metric': 'manhattan',\n",
       "  'weights': 'distance',\n",
       "  'features': ['Avg Min Temp *C', 'Cold Wave', 'Irrigation', 'Crop Type'],\n",
       "  'evaluation': {'mse': 9.3227810358089,\n",
       "   'rmse': 3.0533229498054903,\n",
       "   'r2': 0.999893349725989,\n",
       "   'y_pred': [974.6466666666666,\n",
       "    973.4700000000001,\n",
       "    1652.3933333333332,\n",
       "    1474.935,\n",
       "    1460.7150000000001,\n",
       "    787.73,\n",
       "    1040.311666666667,\n",
       "    1697.1333333333334,\n",
       "    1338.7779999999998,\n",
       "    1182.8714285714286,\n",
       "    1466.695,\n",
       "    781.64,\n",
       "    1196.1433333333332,\n",
       "    1388.8314285714284,\n",
       "    1066.8433333333332,\n",
       "    1188.94,\n",
       "    1474.9350000000002,\n",
       "    782.508,\n",
       "    1488.98,\n",
       "    1657.31,\n",
       "    1474.935,\n",
       "    1617.6449999999998,\n",
       "    1761.2333333333333,\n",
       "    1403.78]}},\n",
       " {'k': 2,\n",
       "  'metric': 'manhattan',\n",
       "  'weights': 'distance',\n",
       "  'features': ['Location',\n",
       "   'Avg Min Temp *C',\n",
       "   'Cold Wave',\n",
       "   'Irrigation',\n",
       "   'Crop Type'],\n",
       "  'evaluation': {'mse': 9.3227810358089,\n",
       "   'rmse': 3.0533229498054903,\n",
       "   'r2': 0.999893349725989,\n",
       "   'y_pred': [974.6466666666666,\n",
       "    973.4700000000001,\n",
       "    1652.3933333333332,\n",
       "    1474.935,\n",
       "    1460.7150000000001,\n",
       "    787.73,\n",
       "    1040.311666666667,\n",
       "    1697.1333333333334,\n",
       "    1338.7779999999998,\n",
       "    1182.8714285714286,\n",
       "    1466.695,\n",
       "    781.64,\n",
       "    1196.1433333333332,\n",
       "    1388.8314285714284,\n",
       "    1066.8433333333332,\n",
       "    1188.94,\n",
       "    1474.9350000000002,\n",
       "    782.508,\n",
       "    1488.98,\n",
       "    1657.31,\n",
       "    1474.935,\n",
       "    1617.6449999999998,\n",
       "    1761.2333333333333,\n",
       "    1403.78]}},\n",
       " {'k': 2,\n",
       "  'metric': 'chebyshev',\n",
       "  'weights': 'distance',\n",
       "  'features': ['Location', 'Avg Min Temp *C', 'Cold Wave', 'Crop Type'],\n",
       "  'evaluation': {'mse': 9.3227810358089,\n",
       "   'rmse': 3.0533229498054903,\n",
       "   'r2': 0.999893349725989,\n",
       "   'y_pred': [974.6466666666666,\n",
       "    973.4700000000001,\n",
       "    1652.3933333333332,\n",
       "    1474.935,\n",
       "    1460.7150000000001,\n",
       "    787.73,\n",
       "    1040.311666666667,\n",
       "    1697.1333333333334,\n",
       "    1338.7779999999998,\n",
       "    1182.8714285714286,\n",
       "    1466.695,\n",
       "    781.64,\n",
       "    1196.1433333333332,\n",
       "    1388.8314285714284,\n",
       "    1066.8433333333332,\n",
       "    1188.94,\n",
       "    1474.9350000000002,\n",
       "    782.508,\n",
       "    1488.98,\n",
       "    1657.31,\n",
       "    1474.935,\n",
       "    1617.6449999999998,\n",
       "    1761.2333333333333,\n",
       "    1403.78]}},\n",
       " {'k': 2,\n",
       "  'metric': 'chebyshev',\n",
       "  'weights': 'distance',\n",
       "  'features': ['Avg Min Temp *C', 'Cold Wave', 'Irrigation', 'Crop Type'],\n",
       "  'evaluation': {'mse': 9.3227810358089,\n",
       "   'rmse': 3.0533229498054903,\n",
       "   'r2': 0.999893349725989,\n",
       "   'y_pred': [974.6466666666666,\n",
       "    973.4700000000001,\n",
       "    1652.3933333333332,\n",
       "    1474.935,\n",
       "    1460.7150000000001,\n",
       "    787.73,\n",
       "    1040.311666666667,\n",
       "    1697.1333333333334,\n",
       "    1338.7779999999998,\n",
       "    1182.8714285714286,\n",
       "    1466.695,\n",
       "    781.64,\n",
       "    1196.1433333333332,\n",
       "    1388.8314285714284,\n",
       "    1066.8433333333332,\n",
       "    1188.94,\n",
       "    1474.9350000000002,\n",
       "    782.508,\n",
       "    1488.98,\n",
       "    1657.31,\n",
       "    1474.935,\n",
       "    1617.6449999999998,\n",
       "    1761.2333333333333,\n",
       "    1403.78]}},\n",
       " {'k': 2,\n",
       "  'metric': 'chebyshev',\n",
       "  'weights': 'distance',\n",
       "  'features': ['Location',\n",
       "   'Avg Min Temp *C',\n",
       "   'Cold Wave',\n",
       "   'Irrigation',\n",
       "   'Crop Type'],\n",
       "  'evaluation': {'mse': 9.3227810358089,\n",
       "   'rmse': 3.0533229498054903,\n",
       "   'r2': 0.999893349725989,\n",
       "   'y_pred': [974.6466666666666,\n",
       "    973.4700000000001,\n",
       "    1652.3933333333332,\n",
       "    1474.935,\n",
       "    1460.7150000000001,\n",
       "    787.73,\n",
       "    1040.311666666667,\n",
       "    1697.1333333333334,\n",
       "    1338.7779999999998,\n",
       "    1182.8714285714286,\n",
       "    1466.695,\n",
       "    781.64,\n",
       "    1196.1433333333332,\n",
       "    1388.8314285714284,\n",
       "    1066.8433333333332,\n",
       "    1188.94,\n",
       "    1474.9350000000002,\n",
       "    782.508,\n",
       "    1488.98,\n",
       "    1657.31,\n",
       "    1474.935,\n",
       "    1617.6449999999998,\n",
       "    1761.2333333333333,\n",
       "    1403.78]}},\n",
       " {'k': 2,\n",
       "  'metric': 'cosine',\n",
       "  'weights': 'distance',\n",
       "  'features': ['Location', 'Avg Min Temp *C', 'Cold Wave', 'Crop Type'],\n",
       "  'evaluation': {'mse': 9.3227810358089,\n",
       "   'rmse': 3.0533229498054903,\n",
       "   'r2': 0.999893349725989,\n",
       "   'y_pred': [974.6466666666666,\n",
       "    973.4700000000001,\n",
       "    1652.3933333333332,\n",
       "    1474.935,\n",
       "    1460.7150000000001,\n",
       "    787.73,\n",
       "    1040.311666666667,\n",
       "    1697.1333333333334,\n",
       "    1338.7779999999998,\n",
       "    1182.8714285714286,\n",
       "    1466.695,\n",
       "    781.64,\n",
       "    1196.1433333333332,\n",
       "    1388.8314285714284,\n",
       "    1066.8433333333332,\n",
       "    1188.94,\n",
       "    1474.9350000000002,\n",
       "    782.508,\n",
       "    1488.98,\n",
       "    1657.31,\n",
       "    1474.935,\n",
       "    1617.6449999999998,\n",
       "    1761.2333333333333,\n",
       "    1403.78]}},\n",
       " {'k': 2,\n",
       "  'metric': 'cosine',\n",
       "  'weights': 'distance',\n",
       "  'features': ['Avg Min Temp *C', 'Cold Wave', 'Irrigation', 'Crop Type'],\n",
       "  'evaluation': {'mse': 9.3227810358089,\n",
       "   'rmse': 3.0533229498054903,\n",
       "   'r2': 0.999893349725989,\n",
       "   'y_pred': [974.6466666666666,\n",
       "    973.4700000000001,\n",
       "    1652.3933333333332,\n",
       "    1474.935,\n",
       "    1460.7150000000001,\n",
       "    787.73,\n",
       "    1040.311666666667,\n",
       "    1697.1333333333334,\n",
       "    1338.7779999999998,\n",
       "    1182.8714285714286,\n",
       "    1466.695,\n",
       "    781.64,\n",
       "    1196.1433333333332,\n",
       "    1388.8314285714284,\n",
       "    1066.8433333333332,\n",
       "    1188.94,\n",
       "    1474.9350000000002,\n",
       "    782.508,\n",
       "    1488.98,\n",
       "    1657.31,\n",
       "    1474.935,\n",
       "    1617.6449999999998,\n",
       "    1761.2333333333333,\n",
       "    1403.78]}},\n",
       " {'k': 2,\n",
       "  'metric': 'cosine',\n",
       "  'weights': 'distance',\n",
       "  'features': ['Location',\n",
       "   'Avg Min Temp *C',\n",
       "   'Cold Wave',\n",
       "   'Irrigation',\n",
       "   'Crop Type'],\n",
       "  'evaluation': {'mse': 9.3227810358089,\n",
       "   'rmse': 3.0533229498054903,\n",
       "   'r2': 0.999893349725989,\n",
       "   'y_pred': [974.6466666666666,\n",
       "    973.4700000000001,\n",
       "    1652.3933333333332,\n",
       "    1474.935,\n",
       "    1460.7150000000001,\n",
       "    787.73,\n",
       "    1040.311666666667,\n",
       "    1697.1333333333334,\n",
       "    1338.7779999999998,\n",
       "    1182.8714285714286,\n",
       "    1466.695,\n",
       "    781.64,\n",
       "    1196.1433333333332,\n",
       "    1388.8314285714284,\n",
       "    1066.8433333333332,\n",
       "    1188.94,\n",
       "    1474.9350000000002,\n",
       "    782.508,\n",
       "    1488.98,\n",
       "    1657.31,\n",
       "    1474.935,\n",
       "    1617.6449999999998,\n",
       "    1761.2333333333333,\n",
       "    1403.78]}}]"
      ]
     },
     "execution_count": 46,
     "metadata": {},
     "output_type": "execute_result"
    }
   ],
   "source": [
    "best_runs_by_r2_knn"
   ]
  },
  {
   "cell_type": "code",
   "execution_count": null,
   "metadata": {},
   "outputs": [],
   "source": []
  }
 ],
 "metadata": {
  "kernelspec": {
   "display_name": "Python 3",
   "language": "python",
   "name": "python3"
  },
  "language_info": {
   "codemirror_mode": {
    "name": "ipython",
    "version": 3
   },
   "file_extension": ".py",
   "mimetype": "text/x-python",
   "name": "python",
   "nbconvert_exporter": "python",
   "pygments_lexer": "ipython3",
   "version": "3.10.11"
  },
  "orig_nbformat": 4
 },
 "nbformat": 4,
 "nbformat_minor": 2
}
