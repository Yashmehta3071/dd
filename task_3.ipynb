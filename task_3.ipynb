{
 "cells": [
  {
   "attachments": {},
   "cell_type": "markdown",
   "metadata": {},
   "source": [
    "# Main Header...."
   ]
  },
  {
   "cell_type": "code",
   "execution_count": 2,
   "metadata": {},
   "outputs": [],
   "source": [
    "import pandas as pd\n",
    "import numpy as np\n",
    "from sklearn.model_selection import train_test_split"
   ]
  },
  {
   "attachments": {},
   "cell_type": "markdown",
   "metadata": {},
   "source": [
    "## Load Data"
   ]
  },
  {
   "cell_type": "code",
   "execution_count": 4,
   "metadata": {},
   "outputs": [],
   "source": [
    "df = pd.read_csv('clean_data.csv')"
   ]
  },
  {
   "attachments": {},
   "cell_type": "markdown",
   "metadata": {},
   "source": [
    "* Droping \"Observer\" column as it has no bearing on Yield or Crop Damage. Other Columns are useful for those predictions"
   ]
  },
  {
   "cell_type": "code",
   "execution_count": 5,
   "metadata": {},
   "outputs": [],
   "source": [
    "df = df.drop('Observer', axis=1)"
   ]
  },
  {
   "attachments": {},
   "cell_type": "markdown",
   "metadata": {},
   "source": [
    "* Convertig categorical values to numerical values "
   ]
  },
  {
   "cell_type": "code",
   "execution_count": 6,
   "metadata": {},
   "outputs": [
    {
     "name": "stdout",
     "output_type": "stream",
     "text": [
      "Location: ['South Janethaven' 'Jesushaven' 'Lake Eric']\n",
      "Heat Wave: ['N' 'Y']\n",
      "Dry Spell: ['N' 'Y']\n",
      "Cold Wave: ['Y' 'N']\n",
      "Wet Spell: ['N' 'Y']\n",
      "Irrigation: ['Y' 'N']\n",
      "Crop Type: ['Canola' 'Oats' 'Wheat']\n",
      "Crop Damage: ['Y' 'N']\n"
     ]
    }
   ],
   "source": [
    "# get columns with categorical values\n",
    "for col in df.columns:\n",
    "    if not isinstance(df[col][0],(int, float,np.number)):\n",
    "        print(f\"{col}: {df[col].unique()}\")"
   ]
  },
  {
   "cell_type": "code",
   "execution_count": 7,
   "metadata": {},
   "outputs": [],
   "source": [
    "# define mapping\n",
    "bool_map = {'Y':1, 'N':0}\n",
    "location_map = {'South Janethaven':0, 'Jesushaven':1, 'Lake Eric':2}\n",
    "crop_type_map = {'Canola':0, 'Oats':1, 'Wheat':2}\n",
    "mapping = {**bool_map, **location_map, **crop_type_map}\n",
    "# map values\n",
    "for col in df.columns:\n",
    "    if not isinstance(df[col][0],(int, float,np.number)):\n",
    "        df[col] = df[col].map(mapping)\n"
   ]
  },
  {
   "cell_type": "code",
   "execution_count": 8,
   "metadata": {},
   "outputs": [
    {
     "data": {
      "text/plain": [
       "Index(['Year', 'Location', 'Avg Min Temp *C', 'Yr Rain mm', 'Heat Wave',\n",
       "       'Dry Spell', 'Cold Wave', 'Wet Spell', 'Irrigation', 'Crop Type',\n",
       "       'Crop Damage', 'Yield'],\n",
       "      dtype='object')"
      ]
     },
     "execution_count": 8,
     "metadata": {},
     "output_type": "execute_result"
    }
   ],
   "source": [
    "df.columns\n"
   ]
  },
  {
   "attachments": {},
   "cell_type": "markdown",
   "metadata": {},
   "source": [
    "* Dataset creation"
   ]
  },
  {
   "cell_type": "code",
   "execution_count": 9,
   "metadata": {},
   "outputs": [],
   "source": [
    "split=[0.8,0.2]\n",
    "random_state = 1\n",
    "df_train, df_test = train_test_split(df, test_size=split[1], random_state=random_state)\n",
    "a_X = df[['Year', 'Location', 'Avg Min Temp *C', 'Yr Rain mm', 'Heat Wave',\n",
    "       'Dry Spell', 'Cold Wave', 'Wet Spell', 'Irrigation', 'Crop Type',\n",
    "       'Crop Damage']]\n",
    "a_y = df[['Yield']]\n",
    "b_X = df[['Year', 'Location', 'Avg Min Temp *C', 'Yr Rain mm', 'Heat Wave',\n",
    "       'Dry Spell', 'Cold Wave', 'Wet Spell', 'Irrigation', 'Crop Type',\n",
    "       'Yield']]\n",
    "b_y = df[['Crop Damage']]\n",
    "split into 80:20 for training and testing\n"
   ]
  },
  {
   "cell_type": "code",
   "execution_count": 11,
   "metadata": {},
   "outputs": [],
   "source": [
    "a_X_train = df_train[['Year', 'Location', 'Avg Min Temp *C', 'Yr Rain mm', 'Heat Wave',\n",
    "       'Dry Spell', 'Cold Wave', 'Wet Spell', 'Irrigation', 'Crop Type', 'Crop Damage']]\n",
    "a_y_train = df_train[['Yield']]\n",
    "a_X_test = df_test[['Year', 'Location', 'Avg Min Temp *C', 'Yr Rain mm', 'Heat Wave',\n",
    "       'Dry Spell', 'Cold Wave', 'Wet Spell', 'Irrigation', 'Crop Type', 'Crop Damage']]\n",
    "a_y_test = df_test[['Yield']]\n",
    "b_X_train = df_train[['Year', 'Location', 'Avg Min Temp *C', 'Yr Rain mm', 'Heat Wave',\n",
    "       'Dry Spell', 'Cold Wave', 'Wet Spell', 'Irrigation', 'Crop Type', 'Yield']]\n",
    "b_y_train = df_train[['Crop Damage']]\n",
    "b_X_test = df_test[['Year', 'Location', 'Avg Min Temp *C', 'Yr Rain mm', 'Heat Wave',\n",
    "       'Dry Spell', 'Cold Wave', 'Wet Spell', 'Irrigation', 'Crop Type', 'Yield']]\n",
    "b_y_test = df_test[['Yield']]"
   ]
  },
  {
   "cell_type": "code",
   "execution_count": 17,
   "metadata": {},
   "outputs": [],
   "source": [
    "a_X_train.to_csv(\"a_X_train.csv\", index=False)\n",
    "a_y_train.to_csv(\"a_y_train.csv\", index=False)\n",
    "a_X_test.to_csv(\"a_X_test.csv\", index=False)\n",
    "a_y_test.to_csv(\"a_y_test.csv\", index=False)\n",
    "b_X_train.to_csv(\"b_X_train.csv\", index=False)\n",
    "b_y_train.to_csv(\"b_y_train.csv\", index=False)\n",
    "b_X_test.to_csv(\"b_X_test.csv\", index=False)\n",
    "b_y_test.to_csv(\"b_y_test.csv\", index=False)"
   ]
  },
  {
   "cell_type": "code",
   "execution_count": 18,
   "metadata": {},
   "outputs": [],
   "source": [
    "# a_X_train\n",
    "# a_y_train\n",
    "# a_X_test\n",
    "# a_y_test\n",
    "# b_X_train\n",
    "# b_y_train\n",
    "# b_X_test\n",
    "# b_y_test"
   ]
  },
  {
   "cell_type": "code",
   "execution_count": null,
   "metadata": {},
   "outputs": [],
   "source": []
  }
 ],
 "metadata": {
  "kernelspec": {
   "display_name": "Python 3",
   "language": "python",
   "name": "python3"
  },
  "language_info": {
   "codemirror_mode": {
    "name": "ipython",
    "version": 3
   },
   "file_extension": ".py",
   "mimetype": "text/x-python",
   "name": "python",
   "nbconvert_exporter": "python",
   "pygments_lexer": "ipython3",
   "version": "3.10.11"
  },
  "orig_nbformat": 4
 },
 "nbformat": 4,
 "nbformat_minor": 2
}
